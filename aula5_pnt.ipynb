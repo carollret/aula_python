{
  "nbformat": 4,
  "nbformat_minor": 0,
  "metadata": {
    "colab": {
      "provenance": [],
      "toc_visible": true
    },
    "kernelspec": {
      "name": "python3",
      "display_name": "Python 3"
    },
    "language_info": {
      "name": "python"
    }
  },
  "cells": [
    {
      "cell_type": "code",
      "execution_count": 11,
      "metadata": {
        "colab": {
          "base_uri": "https://localhost:8080/"
        },
        "id": "se9JvVVNgd6I",
        "outputId": "df651ba7-99e8-4ca7-9300-4a18052b0c0b"
      },
      "outputs": [
        {
          "output_type": "stream",
          "name": "stdout",
          "text": [
            "<class 'str'>\n"
          ]
        }
      ],
      "source": [
        "# ETE CICERO DIAS\n",
        "# DOCENTE: CLOVES DIAS\n",
        "# ESTUDANTE: CAROLINE SILVA BARBOSA\n",
        "# Tipos Primitivos de Dados\n",
        "c = 'caroline'\n",
        "print(type(c))\n",
        "\n",
        "\n"
      ]
    }
  ]
}