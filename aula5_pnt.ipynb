{
  "nbformat": 4,
  "nbformat_minor": 0,
  "metadata": {
    "colab": {
      "provenance": [],
      "toc_visible": true,
      "authorship_tag": "ABX9TyN8WFYPttoBRW8ByL/5BJNh",
      "include_colab_link": true
    },
    "kernelspec": {
      "name": "python3",
      "display_name": "Python 3"
    },
    "language_info": {
      "name": "python"
    }
  },
  "cells": [
    {
      "cell_type": "markdown",
      "metadata": {
        "id": "view-in-github",
        "colab_type": "text"
      },
      "source": [
        "<a href=\"https://colab.research.google.com/github/carollret/aula_python/blob/main/aula5_pnt.ipynb\" target=\"_parent\"><img src=\"https://colab.research.google.com/assets/colab-badge.svg\" alt=\"Open In Colab\"/></a>"
      ]
    },
    {
      "cell_type": "code",
      "execution_count": 11,
      "metadata": {
        "colab": {
          "base_uri": "https://localhost:8080/"
        },
        "id": "se9JvVVNgd6I",
        "outputId": "df651ba7-99e8-4ca7-9300-4a18052b0c0b"
      },
      "outputs": [
        {
          "output_type": "stream",
          "name": "stdout",
          "text": [
            "<class 'str'>\n"
          ]
        }
      ],
      "source": [
        "# ETE CICERO DIAS\n",
        "# DOCENTE: CLOVES DIAS\n",
        "# ESTUDANTE: CAROLINE SILVA BARBOSA\n",
        "# Tipos Primitivos de Dados\n",
        "c = 'caroline'\n",
        "print(type(c))\n",
        "\n",
        "\n"
      ]
    }
  ]
}