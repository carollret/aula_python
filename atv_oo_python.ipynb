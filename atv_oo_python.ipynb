{
  "nbformat": 4,
  "nbformat_minor": 0,
  "metadata": {
    "colab": {
      "provenance": [],
      "include_colab_link": true
    },
    "kernelspec": {
      "name": "python3",
      "display_name": "Python 3"
    },
    "language_info": {
      "name": "python"
    }
  },
  "cells": [
    {
      "cell_type": "markdown",
      "metadata": {
        "id": "view-in-github",
        "colab_type": "text"
      },
      "source": [
        "<a href=\"https://colab.research.google.com/github/carollret/aula_python/blob/main/atv_oo_python.ipynb\" target=\"_parent\"><img src=\"https://colab.research.google.com/assets/colab-badge.svg\" alt=\"Open In Colab\"/></a>"
      ]
    },
    {
      "cell_type": "code",
      "source": [
        "class Cadastro:\n",
        "    def __init__(self, pessoa, username, senha):\n",
        "        self.username = username\n",
        "        self.senha = senha\n",
        "\n",
        "    def mostrar_informacoes(self):\n",
        "        return f\"Cadastro de {self.pessoa.nome} - Username: {self.username}, Senha: {self.senha}\"\n",
        "\n",
        "username = input(\"Digite o Usuário: \")\n",
        "senha = input(\"Digite a senha: \")\n",
        "\n",
        "print(f\"Olá, {username}! Bem-vindo ao Dog & Walks.\")"
      ],
      "metadata": {
        "id": "BiIAz_YpGpyo",
        "colab": {
          "base_uri": "https://localhost:8080/"
        },
        "outputId": "60215745-147e-4746-af75-ef228fbfbfbe"
      },
      "execution_count": null,
      "outputs": [
        {
          "output_type": "stream",
          "name": "stdout",
          "text": [
            "Digite o Usuário: carollret\n",
            "Digite a senha: 123\n",
            "Olá, carollret! Bem-vindo ao Dog & Walks.\n"
          ]
        }
      ]
    },
    {
      "cell_type": "code",
      "source": [
        "class Dono:\n",
        "    def __init__(self, nome_sobrenome, idade, telefone, email, cpf, dog):\n",
        "        self.nome_sobrenome = nome_sobrenome\n",
        "        self.telefone = telefone\n",
        "        self.email = email\n",
        "        self.cpf = cpf\n",
        "        self.dog = dog\n",
        "\n",
        "nome_sobrenome = input(\"Digite seu nome e sobrenome: \")\n",
        "idade = input(\"Digite sua idade: \")\n",
        "endereco = input(\"Digite seu endereço: \")\n",
        "telefone = input(\"Digite seu telefone: \")\n",
        "dog = input(\"Digite o nome do seu dog: \")\n",
        "\n",
        "print(\"\\nCadastro completo:\")\n",
        "print(f\"Olá, {nome_sobrenome}! Bem-vindo ao Dog & Walks.\")\n",
        "print(f\"Idade: {idade}\")\n",
        "print(f\"Endereço: {endereco}\")\n",
        "print(f\"Telefone: {telefone}\")\n",
        "print(f\"Dog: {dog}\")\n"
      ],
      "metadata": {
        "colab": {
          "base_uri": "https://localhost:8080/"
        },
        "id": "EU1fJlC2kGYl",
        "outputId": "2cf75f55-3ba7-48f3-9100-1966991e36c4"
      },
      "execution_count": null,
      "outputs": [
        {
          "output_type": "stream",
          "name": "stdout",
          "text": [
            "Digite seu nome e sobrenome: Caroline Silva\n",
            "Digite sua idade: 28\n",
            "Digite seu endereço: Rua dom Estevão Brioso 85\n",
            "Digite seu telefone: 81 97912-4617\n",
            "Digite o nome do seu dog: Fofucha\n",
            "\n",
            "Cadastro completo:\n",
            "Olá, Caroline Silva! Bem-vindo ao Dog & Walks.\n",
            "Idade: 28\n",
            "Endereço: Rua dom Estevão Brioso 85\n",
            "Telefone: 81 97912-4617\n",
            "Dog: Fofucha\n"
          ]
        }
      ]
    },
    {
      "cell_type": "code",
      "source": [
        "class Dog:\n",
        "    def __init__(self, nome, sexo, peso, idade , raca):\n",
        "        self.nome = nome\n",
        "        self.sexo = sexo\n",
        "        self.peso = peso\n",
        "        self.idade = idade\n",
        "        self.raça = raça\n",
        "        self.porte = porte\n",
        "\n",
        "nome = input(\"Informe o Nome: \")\n",
        "sexo = input(\"Informe o Sexo: \")\n",
        "peso = input(\"Informe a Peso: \")\n",
        "idade = input(\"Informe a Idade: \")\n",
        "raça = input(\"Informe a Raça: \")\n",
        "porte = input(\"Informe o Porte: \")\n",
        "\n",
        "print(\"\\nCadastro completo:\")\n",
        "print(f\"Olá, {nome}\")\n",
        "print(f\"Sexo: {sexo}\")\n",
        "print(f\"Peso: {peso} km \")\n",
        "print(f\"Idade: {idade} anos\")\n",
        "print(f\"Raça: {raça}\")\n",
        "print(f\"Porte: {porte}\")\n"
      ],
      "metadata": {
        "id": "sV5wIwI8z_uC",
        "colab": {
          "base_uri": "https://localhost:8080/"
        },
        "outputId": "6e06c49b-adf2-444a-ee35-8e1373a2dbaf"
      },
      "execution_count": null,
      "outputs": [
        {
          "output_type": "stream",
          "name": "stdout",
          "text": [
            "Informe o Nome: Fofucha\n",
            "Informe o Sexo: Femea\n",
            "Informe a Peso: 12\n",
            "Informe a Idade: 15\n",
            "Informe a Raça: Puldo\n",
            "Informe o Porte: Médio\n",
            "\n",
            "Cadastro completo:\n",
            "Olá, Fofucha\n",
            "Sexo: Femea\n",
            "Peso: 12 km \n",
            "Idade: 15 anos\n",
            "Raça: Puldo\n",
            "Porte: Médio\n"
          ]
        }
      ]
    },
    {
      "cell_type": "code",
      "source": [],
      "metadata": {
        "id": "B-yTZoBwE4z6"
      },
      "execution_count": null,
      "outputs": []
    }
  ]
}