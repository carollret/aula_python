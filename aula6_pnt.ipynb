{
  "nbformat": 4,
  "nbformat_minor": 0,
  "metadata": {
    "colab": {
      "provenance": [],
      "toc_visible": true,
      "name": "aula6_pnt.ipynb",
      "authorship_tag": "ABX9TyPxt1viRZP7v36YcsN/p2Eb",
      "include_colab_link": true
    },
    "kernelspec": {
      "name": "python3",
      "display_name": "Python 3"
    },
    "language_info": {
      "name": "python"
    }
  },
  "cells": [
    {
      "cell_type": "markdown",
      "metadata": {
        "id": "view-in-github",
        "colab_type": "text"
      },
      "source": [
        "<a href=\"https://colab.research.google.com/github/carollret/aula_python/blob/main/aula6_pnt.ipynb\" target=\"_parent\"><img src=\"https://colab.research.google.com/assets/colab-badge.svg\" alt=\"Open In Colab\"/></a>"
      ]
    },
    {
      "cell_type": "code",
      "execution_count": null,
      "metadata": {
        "colab": {
          "base_uri": "https://localhost:8080/"
        },
        "id": "se9JvVVNgd6I",
        "outputId": "df651ba7-99e8-4ca7-9300-4a18052b0c0b"
      },
      "outputs": [
        {
          "output_type": "stream",
          "name": "stdout",
          "text": [
            "<class 'str'>\n"
          ]
        }
      ],
      "source": [
        "# ETE CICERO DIAS\n",
        "# DOCENTE: CLOVES DIAS\n",
        "# ESTUDANTE: CAROLINE SILVA BARBOSA\n",
        "# Tipos Primitivos de Dados\n",
        "c = 'caroline'\n",
        "print(type(c))\n",
        "\n",
        "\n"
      ]
    },
    {
      "cell_type": "code",
      "source": [
        "# 3. Operadores Aritméticos - Python\n",
        "# 10 + 1\n",
        "# 10 - 1\n",
        "# 4 * 5\n",
        "# 10 / 3\n",
        "# 10 // 3\n",
        "# 2 ** 3\n",
        "# 13 % 2\n",
        "\n",
        "#c = 2 ** 3\n",
        "#print(c)\n",
        "\n",
        "c = 10 // 3\n",
        "print(c)"
      ],
      "metadata": {
        "colab": {
          "base_uri": "https://localhost:8080/"
        },
        "id": "2u-ntHhgBoao",
        "outputId": "3d98ceae-38f2-4e2f-9997-5643e7107d7b"
      },
      "execution_count": null,
      "outputs": [
        {
          "output_type": "stream",
          "name": "stdout",
          "text": [
            "3\n"
          ]
        }
      ]
    },
    {
      "cell_type": "code",
      "source": [
        "# 4. Operadores Relacionais Simples.\n",
        "\n",
        "# 7 > 5\n",
        "# 10 < 15\n",
        "\n",
        "notaA = 5\n",
        "notaB = 10\n",
        "notaA = notaB\n",
        "print(notaA)"
      ],
      "metadata": {
        "colab": {
          "base_uri": "https://localhost:8080/"
        },
        "id": "OQFp_na9Bs1X",
        "outputId": "5eeab1c0-ea27-4240-aa63-bb28e001aef2"
      },
      "execution_count": null,
      "outputs": [
        {
          "output_type": "stream",
          "name": "stdout",
          "text": [
            "10\n"
          ]
        }
      ]
    },
    {
      "cell_type": "code",
      "source": [
        "# 5. Operadores Relacionais Compostos.\n",
        "#na = 10\n",
        "#nb = 6\n",
        "#nc = 8\n",
        "#nd = 9\n",
        "#na >= nb\n",
        "#7 >= 6\n",
        "#print('Estudante aprovado!')\n",
        "#7 <= 10\n",
        "a = 10\n",
        "b = 9\n",
        "a != b"
      ],
      "metadata": {
        "colab": {
          "base_uri": "https://localhost:8080/"
        },
        "id": "HWH-TK1nBu3v",
        "outputId": "32246308-9cf7-457a-fb65-529f95a36a7a"
      },
      "execution_count": null,
      "outputs": [
        {
          "output_type": "execute_result",
          "data": {
            "text/plain": [
              "True"
            ]
          },
          "metadata": {},
          "execution_count": 16
        }
      ]
    },
    {
      "cell_type": "code",
      "source": [
        "nome = input('Digite seu nome: ')\n",
        "print(f'Seu nome é {nome}.')"
      ],
      "metadata": {
        "colab": {
          "base_uri": "https://localhost:8080/"
        },
        "id": "7uQaZ1TnBwyY",
        "outputId": "f7f68549-cd80-4278-f59d-e4b1b96c752e"
      },
      "execution_count": null,
      "outputs": [
        {
          "output_type": "stream",
          "name": "stdout",
          "text": [
            "Digite seu nome: Caroline\n",
            "Seu nome é Caroline.\n"
          ]
        }
      ]
    },
    {
      "cell_type": "code",
      "source": [
        "idade = int(input('Digite sua idade: '))\n",
        "print(f'Você tem {idade} anos e','Meses' )\n",
        "print(type(idade))"
      ],
      "metadata": {
        "colab": {
          "base_uri": "https://localhost:8080/"
        },
        "id": "LDZcSywaCpFE",
        "outputId": "dd1acbf7-bb64-438d-ae17-6eb66460e3cf"
      },
      "execution_count": null,
      "outputs": [
        {
          "output_type": "stream",
          "name": "stdout",
          "text": [
            "Digite sua idade: 28\n",
            "Você tem 28 anos e Meses\n",
            "<class 'int'>\n"
          ]
        }
      ]
    },
    {
      "cell_type": "code",
      "source": [
        "peso = float(input('Digite seu peso: '))\n",
        "print(f'Você pesa {peso}KGs')\n",
        "print(type(peso))"
      ],
      "metadata": {
        "colab": {
          "base_uri": "https://localhost:8080/"
        },
        "id": "XUpd7amVCwW8",
        "outputId": "fd99b904-4617-408f-edbf-b923daeb0c6e"
      },
      "execution_count": null,
      "outputs": [
        {
          "output_type": "stream",
          "name": "stdout",
          "text": [
            "Digite seu peso: 59\n",
            "Você pesa 59.0KGs\n",
            "<class 'float'>\n"
          ]
        }
      ]
    }
  ]
}